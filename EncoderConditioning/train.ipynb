{
 "cells": [
  {
   "cell_type": "code",
   "execution_count": null,
   "id": "52a967f4-8b88-4f26-a32f-d556c84c6cc4",
   "metadata": {},
   "outputs": [],
   "source": [
    "%load_ext autoreload\n",
    "%autoreload 2"
   ]
  },
  {
   "cell_type": "code",
   "execution_count": null,
   "id": "80b44008-0ac1-4bc1-bee5-f42ecd5a7f77",
   "metadata": {},
   "outputs": [],
   "source": [
    "from datetime import datetime\n",
    "\n",
    "import torch\n",
    "\n",
    "from utils.dataset import ConditioningDataset\n",
    "from nca import ConditionedNCA\n",
    "from conditioned_trainer import ConditionedNCATrainer\n",
    "from utils.utils import load_target_style_image, dotdict\n",
    "\n",
    "import os\n",
    "import shutil\n",
    "import json"
   ]
  },
  {
   "cell_type": "code",
   "execution_count": null,
   "id": "9d9d00a7-7fbb-4621-9f67-9794abf6df2f",
   "metadata": {},
   "outputs": [],
   "source": [
    "device = torch.device(\"cuda\" if torch.cuda.is_available() else \"cpu\")\n",
    "print(\"Running training on\", device)"
   ]
  },
  {
   "cell_type": "markdown",
   "id": "b95daff8-6005-4779-b499-6caafe998cc0",
   "metadata": {},
   "source": [
    "##### Set training arguments"
   ]
  },
  {
   "cell_type": "code",
   "execution_count": null,
   "id": "fb4ae3d6-c490-4368-8485-3f41869d2896",
   "metadata": {},
   "outputs": [],
   "source": [
    "args_dict = {\n",
    "         'conditioning_dataset': '../../../data/random_faces/',\n",
    "         'target_style_image': '../../../data/style_images/picasso.jpg',\n",
    "         'exp_name': 'img_size_128_appearance_weight_5_content_weight_01_overflow_weight_10',\n",
    "         'log_dir': 'logs',\n",
    "         'num_hidden_channels': 16,\n",
    "         'img_size': 128,\n",
    "         'batch_size': 8,\n",
    "         'learning_rate': 0.001,\n",
    "         'epochs': 100000,\n",
    "         'cell_fire_rate': 0.5,\n",
    "         'pool_size': 1024,\n",
    "         'damage_radius': 3,\n",
    "         'appearance_loss_type': 'OT',\n",
    "         'appearance_loss_weight': 5.0,\n",
    "         'content_loss_weight': 0.1,\n",
    "         'overflow_loss_weight': 10.0\n",
    "}\n",
    "\n",
    "args = dotdict(args_dict)"
   ]
  },
  {
   "cell_type": "markdown",
   "id": "745d6b36-7e85-418d-b22a-9ccb52bf4439",
   "metadata": {},
   "source": [
    "##### Create logging dir"
   ]
  },
  {
   "cell_type": "code",
   "execution_count": null,
   "id": "c94ca733-2019-4654-b10f-ec0ccbead28a",
   "metadata": {},
   "outputs": [],
   "source": [
    "overwrite = False\n",
    "\n",
    "outdir = os.path.join(args.log_dir, args.exp_name)\n",
    "\n",
    "if os.path.exists(outdir):\n",
    "    assert overwrite, (f\"Results for experiment '{args.exp_name}' \" +\n",
    "                            \"already exist. Please set the overwrite \" +\n",
    "                            \"variable to True if you wish to \" +\n",
    "                            \"overwrite these results.\")\n",
    "    print(\"Overwriting previous results\")\n",
    "    shutil.rmtree(outdir)\n",
    "\n",
    "os.makedirs(outdir)\n",
    "print(f\"Created results directory: {outdir}\")\n",
    "\n",
    "args_dict['overwrite'] = overwrite\n",
    "args_log_file = os.path.join(outdir, 'args.json')\n",
    "with open(args_log_file, 'w', encoding='utf-8') as f:\n",
    "    json.dump(args_dict, f, ensure_ascii=False, indent=4)\n",
    "print(f\"Saved arguments log file to {args_log_file}\")"
   ]
  },
  {
   "cell_type": "markdown",
   "id": "6f2f48b4-a736-4b3f-9425-901813d1488c",
   "metadata": {},
   "source": [
    "##### Load training data"
   ]
  },
  {
   "cell_type": "code",
   "execution_count": null,
   "id": "af70b0f5-9e43-47b1-9d77-cb511eb3dcb2",
   "metadata": {},
   "outputs": [],
   "source": [
    "dataset = ConditioningDataset(args.conditioning_dataset, image_size=args.img_size)\n",
    "target_style_image = load_target_style_image(args.target_style_image, size=args.img_size)\n",
    "\n",
    "dataset.to(device)"
   ]
  },
  {
   "cell_type": "code",
   "execution_count": null,
   "id": "9b76f350-0ed7-4842-8672-2bdedad7f00c",
   "metadata": {},
   "outputs": [],
   "source": [
    "NUM_HIDDEN_CHANNELS = args.num_hidden_channels\n",
    "\n",
    "nca = ConditionedNCA(\n",
    "        target_shape = dataset.target_size,\n",
    "        num_hidden_channels = NUM_HIDDEN_CHANNELS,\n",
    "        living_channel_dim = 3,\n",
    "        cell_fire_rate = args.cell_fire_rate\n",
    ")\n",
    "\n",
    "nca = nca.to(device)\n",
    "\n",
    "print(nca)"
   ]
  },
  {
   "cell_type": "code",
   "execution_count": null,
   "id": "9c0755e7-a18b-448e-a006-fdbcab0fa5ec",
   "metadata": {},
   "outputs": [],
   "source": [
    "import matplotlib.pyplot as plt\n",
    "from IPython.display import clear_output, Markdown\n",
    "from collections import defaultdict \n",
    "import numpy as np\n",
    "\n",
    "class Visualiser():\n",
    "    \n",
    "    def __init__(self, show_every, curr_epoch=0):\n",
    "        self.show_every = show_every\n",
    "        self.curr_epoch = 0\n",
    "        self.metrics = defaultdict(list)\n",
    "    \n",
    "    def step(self, curr_epoch, batch, outputs, targets, metrics):\n",
    "        self.curr_epoch = curr_epoch\n",
    "        for metric in metrics:\n",
    "            if 'grad' in metric:  # Fixed 'grad' should be used as string not variable\n",
    "                continue\n",
    "            self.metrics[metric].append(metrics[metric])\n",
    "\n",
    "        if self.curr_epoch % self.show_every == 0 and self.curr_epoch > 0:\n",
    "            clear_output(True)\n",
    "            self._plot_metrics()\n",
    "            self._plot_images(batch, outputs, targets)\n",
    "            \n",
    "\n",
    "        if self.curr_epoch % 5 == 0 and self.curr_epoch > 0:\n",
    "            display_str = \"\\n\\n\".join([f\"**{k} loss** = {self.metrics[k][-1]}\" for k in self.metrics])\n",
    "            display_str += f\"\\n**Step**: {self.curr_epoch} / {args.epochs} \\n\\n\"\n",
    "            display(Markdown(display_str), display_id='stats')\n",
    "    \n",
    "    def _plot_metrics(self):\n",
    "        plt.figure(figsize=(10, 6))\n",
    "        for i, (metric, values) in enumerate(self.metrics.items()):\n",
    "            plt.subplot(2, (len(self.metrics) + 1)//2, i+1)\n",
    "            plt.scatter(range(len(values)), values, label=metric)\n",
    "            plt.xlabel('Epoch')\n",
    "            plt.ylabel(metric)\n",
    "            plt.legend()\n",
    "        plt.show()\n",
    "    \n",
    "    def _plot_images(self, batch, outputs, targets):\n",
    "        num_images = batch.shape[0]\n",
    "        fig, axes = plt.subplots(3, num_images, figsize=(15, 6))\n",
    "\n",
    "        for i in range(num_images):\n",
    "            axes[0, i].imshow(np.transpose(batch[i], (1, 2, 0)))\n",
    "            axes[0, i].set_title(f'Batch {i+1}')\n",
    "            axes[0, i].axis('off')\n",
    "\n",
    "            axes[1, i].imshow(np.transpose(outputs[i], (1, 2, 0)))\n",
    "            axes[1, i].set_title(f'Output {i+1}')\n",
    "            axes[1, i].axis('off')\n",
    "\n",
    "            axes[2, i].imshow(np.transpose(targets[i], (1, 2, 0)))\n",
    "            axes[2, i].set_title(f'Target {i+1}')\n",
    "            axes[2, i].axis('off')\n",
    "\n",
    "        plt.tight_layout()\n",
    "        plt.show()\n"
   ]
  },
  {
   "cell_type": "code",
   "execution_count": null,
   "id": "3f2365fc-fe9e-437b-b8b3-e1593470d697",
   "metadata": {},
   "outputs": [],
   "source": [
    "visualiser = Visualiser(show_every=5)\n",
    "\n",
    "trainer = ConditionedNCATrainer(\n",
    "    nca,\n",
    "    dataset,\n",
    "    target_style_image,\n",
    "    nca_steps=[48, 96],\n",
    "    lr = args.learning_rate,\n",
    "    pool_size = args.pool_size,\n",
    "    num_damaged = 0,\n",
    "    log_base_path = outdir,\n",
    "    damage_radius = args.damage_radius,\n",
    "    appearance_loss_type = args.appearance_loss_type,\n",
    "    appearance_loss_weight = args.appearance_loss_weight,\n",
    "    content_loss_weight = args.content_loss_weight,\n",
    "    overflow_loss_weight = args.overflow_loss_weight,\n",
    "    device = device,\n",
    "    visualiser = visualiser\n",
    ")"
   ]
  },
  {
   "cell_type": "code",
   "execution_count": null,
   "id": "1c0c84c1-f56e-411c-a416-9da813f2f382",
   "metadata": {},
   "outputs": [],
   "source": [
    "try:\n",
    "    trainer.train(batch_size=args.batch_size, epochs=args.epochs)\n",
    "except (KeyboardInterrupt, torch.cuda.OutOfMemoryError) as e:\n",
    "    print(e)\n",
    "    print('Saving latest model checkpoint...')\n",
    "\n",
    "nca.save(f\"{outdir}/ConditionedNCA.pt\")"
   ]
  },
  {
   "cell_type": "code",
   "execution_count": null,
   "id": "95696d5d-884e-4599-a2a4-41495f38b526",
   "metadata": {},
   "outputs": [],
   "source": []
  }
 ],
 "metadata": {
  "kernelspec": {
   "display_name": "Python 3 (ipykernel)",
   "language": "python",
   "name": "python3"
  },
  "language_info": {
   "codemirror_mode": {
    "name": "ipython",
    "version": 3
   },
   "file_extension": ".py",
   "mimetype": "text/x-python",
   "name": "python",
   "nbconvert_exporter": "python",
   "pygments_lexer": "ipython3",
   "version": "3.10.13"
  }
 },
 "nbformat": 4,
 "nbformat_minor": 5
}
